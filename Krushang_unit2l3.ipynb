{
  "nbformat": 4,
  "nbformat_minor": 0,
  "metadata": {
    "colab": {
      "name": "Krushang_unit2l3.ipynb",
      "provenance": []
    },
    "kernelspec": {
      "name": "python3",
      "display_name": "Python 3"
    }
  },
  "cells": [
    {
      "cell_type": "markdown",
      "metadata": {
        "id": "M1m8ca73rTyA"
      },
      "source": [
        "Name: Krushang Shah"
      ]
    },
    {
      "cell_type": "markdown",
      "metadata": {
        "id": "fOgkRKYGrNrz"
      },
      "source": [
        "1. Create a list of 5 of your favorite tv shows"
      ]
    },
    {
      "cell_type": "code",
      "metadata": {
        "id": "YPDtFYXaoYbW"
      },
      "source": [
        "tv_shows = [\"Black Mirror\", \"Sherlock\", \"Rick and Morty\", \"Silicon Valley\", \"Game of Thrones\"]"
      ],
      "execution_count": 1,
      "outputs": []
    },
    {
      "cell_type": "markdown",
      "metadata": {
        "id": "GpdC6sVcob4p"
      },
      "source": [
        "2. Print the list in its original order."
      ]
    },
    {
      "cell_type": "code",
      "metadata": {
        "colab": {
          "base_uri": "https://localhost:8080/"
        },
        "id": "tuzaWol_r-qF",
        "outputId": "341d64e0-761c-4ae4-e53c-951b0239983d"
      },
      "source": [
        "print(tv_shows)"
      ],
      "execution_count": 2,
      "outputs": [
        {
          "output_type": "stream",
          "text": [
            "['Black Mirror', 'Sherlock', 'Rick and Morty', 'Silicon Valley', 'Game of Thrones']\n"
          ],
          "name": "stdout"
        }
      ]
    },
    {
      "cell_type": "markdown",
      "metadata": {
        "id": "jAbcTl-PsEDX"
      },
      "source": [
        "3. Use the sorted() function to print the list in alphabetical order.  How is sorted() different from sort()?"
      ]
    },
    {
      "cell_type": "code",
      "metadata": {
        "colab": {
          "base_uri": "https://localhost:8080/"
        },
        "id": "EWmXJ6FLsEUt",
        "outputId": "afe0f71b-3900-49cd-df08-cb273fb080f8"
      },
      "source": [
        "print(sorted(tv_shows))"
      ],
      "execution_count": 3,
      "outputs": [
        {
          "output_type": "stream",
          "text": [
            "['Black Mirror', 'Game of Thrones', 'Rick and Morty', 'Sherlock', 'Silicon Valley']\n"
          ],
          "name": "stdout"
        }
      ]
    },
    {
      "cell_type": "markdown",
      "metadata": {
        "id": "qd2GucycsjAf"
      },
      "source": [
        "Sorted is used to sort something and assign it to new variable, while sort is used to sort things in place."
      ]
    },
    {
      "cell_type": "markdown",
      "metadata": {
        "id": "M9y834UusEjq"
      },
      "source": [
        "4. Print out your original list.\r\n"
      ]
    },
    {
      "cell_type": "code",
      "metadata": {
        "colab": {
          "base_uri": "https://localhost:8080/"
        },
        "id": "mltyejIssEvI",
        "outputId": "c66db636-253d-43b7-8c8b-d51704d85b96"
      },
      "source": [
        "print(tv_shows)"
      ],
      "execution_count": 4,
      "outputs": [
        {
          "output_type": "stream",
          "text": [
            "['Black Mirror', 'Sherlock', 'Rick and Morty', 'Silicon Valley', 'Game of Thrones']\n"
          ],
          "name": "stdout"
        }
      ]
    },
    {
      "cell_type": "markdown",
      "metadata": {
        "id": "jmoG4pU6sE3v"
      },
      "source": [
        "5. Used sorted() to print your list in reverse alphabetical order."
      ]
    },
    {
      "cell_type": "code",
      "metadata": {
        "colab": {
          "base_uri": "https://localhost:8080/"
        },
        "id": "dWiN8d6CsFCL",
        "outputId": "5d72eff9-cda2-4133-d8f3-379823e5d32c"
      },
      "source": [
        "print(sorted(tv_shows, reverse = True))"
      ],
      "execution_count": 5,
      "outputs": [
        {
          "output_type": "stream",
          "text": [
            "['Silicon Valley', 'Sherlock', 'Rick and Morty', 'Game of Thrones', 'Black Mirror']\n"
          ],
          "name": "stdout"
        }
      ]
    },
    {
      "cell_type": "markdown",
      "metadata": {
        "id": "rYyu9A9rtfHE"
      },
      "source": [
        "6. Create a message indicating how many favorite TV shows you have – use the len() function."
      ]
    },
    {
      "cell_type": "code",
      "metadata": {
        "colab": {
          "base_uri": "https://localhost:8080/"
        },
        "id": "K_mlwWUStgic",
        "outputId": "a87959f1-19a2-4755-83f9-9a05ee0569af"
      },
      "source": [
        "print(\"No. of my favorite shows \" + str(len(tv_shows)))"
      ],
      "execution_count": 6,
      "outputs": [
        {
          "output_type": "stream",
          "text": [
            "No. of my favorite shows 5\n"
          ],
          "name": "stdout"
        }
      ]
    }
  ]
}