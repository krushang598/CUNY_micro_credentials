{
  "nbformat": 4,
  "nbformat_minor": 0,
  "metadata": {
    "colab": {
      "name": "Krushang_unit2_L5.ipynb",
      "provenance": [],
      "collapsed_sections": [],
      "authorship_tag": "ABX9TyMM3NZB6pEKj19vPX/BIIhr",
      "include_colab_link": true
    },
    "kernelspec": {
      "name": "python3",
      "display_name": "Python 3"
    }
  },
  "cells": [
    {
      "cell_type": "markdown",
      "metadata": {
        "id": "view-in-github",
        "colab_type": "text"
      },
      "source": [
        "<a href=\"https://colab.research.google.com/github/krushang598/CUNY_micro_credentials/blob/main/Krushang_unit2_L5.ipynb\" target=\"_parent\"><img src=\"https://colab.research.google.com/assets/colab-badge.svg\" alt=\"Open In Colab\"/></a>"
      ]
    },
    {
      "cell_type": "code",
      "metadata": {
        "colab": {
          "base_uri": "https://localhost:8080/"
        },
        "id": "ds-D6l4uewcS",
        "outputId": "2d4453dd-5406-4d07-e0c0-a97f0e1d3912"
      },
      "source": [
        "people = [\"John\", \"Jane\", \"Admin\", \"Jack\", \"Jill\"]\r\n",
        "for i in people:\r\n",
        "  if i == \"Admin\":\r\n",
        "    print(\"Welcome \" + i + \"! It is great to have you here.\")\r\n",
        "  else:\r\n",
        "    print(\"Welcome \" + i)"
      ],
      "execution_count": 1,
      "outputs": [
        {
          "output_type": "stream",
          "text": [
            "Welcome John\n",
            "Welcome Jane\n",
            "Welcome Jack\n",
            "Welcome Jill\n",
            "Welcome Admin! It is great to have you here.\n"
          ],
          "name": "stdout"
        }
      ]
    },
    {
      "cell_type": "code",
      "metadata": {
        "colab": {
          "base_uri": "https://localhost:8080/"
        },
        "id": "nX0n1PFvfYzn",
        "outputId": "debef294-25d2-4f67-9585-64df5e4a1a2f"
      },
      "source": [
        " nums = [1, 2, 3, 4, 5, 6, 7, 8, 9, 10]\r\n",
        " for i in nums:\r\n",
        "  if i == 1:\r\n",
        "    print(str(i) + \"st\")\r\n",
        "  elif i == 2:\r\n",
        "    print(str(i) + \"nd\")\r\n",
        "  elif i == 3:\r\n",
        "     print(str(i) + \"rd\")\r\n",
        "  else:\r\n",
        "    print(str(i) + \"th\")"
      ],
      "execution_count": 2,
      "outputs": [
        {
          "output_type": "stream",
          "text": [
            "1st\n",
            "2nd\n",
            "3rd\n",
            "4th\n",
            "5th\n",
            "6th\n",
            "7th\n",
            "8th\n",
            "9th\n",
            "10th\n"
          ],
          "name": "stdout"
        }
      ]
    }
  ]
}