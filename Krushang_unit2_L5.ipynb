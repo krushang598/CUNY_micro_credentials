{
  "nbformat": 4,
  "nbformat_minor": 0,
  "metadata": {
    "colab": {
      "name": "Krushang_unit2_L5.ipynb",
      "provenance": [],
      "collapsed_sections": [],
      "authorship_tag": "ABX9TyMRP//as8pRYvltwzeDciUr",
      "include_colab_link": true
    },
    "kernelspec": {
      "name": "python3",
      "display_name": "Python 3"
    }
  },
  "cells": [
    {
      "cell_type": "markdown",
      "metadata": {
        "id": "view-in-github",
        "colab_type": "text"
      },
      "source": [
        "<a href=\"https://colab.research.google.com/github/krushang598/CUNY_micro_credentials/blob/main/Krushang_unit2_L5.ipynb\" target=\"_parent\"><img src=\"https://colab.research.google.com/assets/colab-badge.svg\" alt=\"Open In Colab\"/></a>"
      ]
    },
    {
      "cell_type": "code",
      "metadata": {
        "colab": {
          "base_uri": "https://localhost:8080/"
        },
        "id": "ds-D6l4uewcS",
        "outputId": "09305b22-d474-48a7-fbe2-9e22875d2da3"
      },
      "source": [
        "people = {\"John\": \"User\", \"Jane\": \"User\", \"Administrator\": \"Admin\", \"Jack\": \"User\", \"Jill\": \"User\"}\r\n",
        "for i in people:\r\n",
        "  if people[i] == \"Admin\":\r\n",
        "    print(\"Welcome \" + i + \"! It is great to have you here.\")\r\n",
        "  else:\r\n",
        "    print(\"Welcome \" + i)"
      ],
      "execution_count": 3,
      "outputs": [
        {
          "output_type": "stream",
          "text": [
            "Welcome John\n",
            "Welcome Jane\n",
            "Welcome Administrator! It is great to have you here.\n",
            "Welcome Jack\n",
            "Welcome Jill\n"
          ],
          "name": "stdout"
        }
      ]
    },
    {
      "cell_type": "code",
      "metadata": {
        "colab": {
          "base_uri": "https://localhost:8080/"
        },
        "id": "nX0n1PFvfYzn",
        "outputId": "2e5712da-29a6-47b9-abd6-ff1944a4365b"
      },
      "source": [
        " nums = [1, 2, 3, 4, 5, 6, 7, 8, 9, 10]\r\n",
        " for i in nums:\r\n",
        "  if i == 1:\r\n",
        "    print(str(i) + \"st\")\r\n",
        "  elif i == 2:\r\n",
        "    print(str(i) + \"nd\")\r\n",
        "  elif i == 3:\r\n",
        "     print(str(i) + \"rd\")\r\n",
        "  else:\r\n",
        "    print(str(i) + \"th\")"
      ],
      "execution_count": 4,
      "outputs": [
        {
          "output_type": "stream",
          "text": [
            "1st\n",
            "2nd\n",
            "3rd\n",
            "4th\n",
            "5th\n",
            "6th\n",
            "7th\n",
            "8th\n",
            "9th\n",
            "10th\n"
          ],
          "name": "stdout"
        }
      ]
    }
  ]
}