{
  "nbformat": 4,
  "nbformat_minor": 0,
  "metadata": {
    "colab": {
      "name": "Krushang_Unit2L6.ipynb",
      "provenance": [],
      "authorship_tag": "ABX9TyNbh4FFqZ/xFYNJjmGny/VF",
      "include_colab_link": true
    },
    "kernelspec": {
      "name": "python3",
      "display_name": "Python 3"
    }
  },
  "cells": [
    {
      "cell_type": "markdown",
      "metadata": {
        "id": "view-in-github",
        "colab_type": "text"
      },
      "source": [
        "<a href=\"https://colab.research.google.com/github/krushang598/CUNY_micro_credentials/blob/main/Krushang_Unit2L6.ipynb\" target=\"_parent\"><img src=\"https://colab.research.google.com/assets/colab-badge.svg\" alt=\"Open In Colab\"/></a>"
      ]
    },
    {
      "cell_type": "markdown",
      "metadata": {
        "id": "BEtJ4yYtTVc-"
      },
      "source": [
        "1. Create a simple dictionary that stores 2 variables, for example: first and last name."
      ]
    },
    {
      "cell_type": "code",
      "metadata": {
        "id": "AtzsZWgHFP-A"
      },
      "source": [
        "names = [{\"First_name\": \"John\", \"Last_name\": \"Doe\"}]"
      ],
      "execution_count": 7,
      "outputs": []
    },
    {
      "cell_type": "markdown",
      "metadata": {
        "id": "DC1FJ1NOTwNT"
      },
      "source": [
        "2. Print out those variables stored in your previous dictionary."
      ]
    },
    {
      "cell_type": "code",
      "metadata": {
        "colab": {
          "base_uri": "https://localhost:8080/"
        },
        "id": "35dTiaNbTxae",
        "outputId": "32b1c382-0909-4fd9-a6a1-dd68cacaa25b"
      },
      "source": [
        "print(names)"
      ],
      "execution_count": 8,
      "outputs": [
        {
          "output_type": "stream",
          "text": [
            "[{'First_name': 'John', 'Last_name': 'Doe'}]\n"
          ],
          "name": "stdout"
        }
      ]
    },
    {
      "cell_type": "markdown",
      "metadata": {
        "id": "kuNGMcMVUH-B"
      },
      "source": [
        "3. Add a message to those variables on printing: for example: “Hello, firstname lastname!”"
      ]
    },
    {
      "cell_type": "code",
      "metadata": {
        "colab": {
          "base_uri": "https://localhost:8080/"
        },
        "id": "zbR83qQ3TzhD",
        "outputId": "c60a617b-b694-43f5-a551-b308b60ab6fc"
      },
      "source": [
        "for i in names:\r\n",
        "  print(\"Hello \" + i[\"First_name\"] + \" \" + i[\"Last_name\"])"
      ],
      "execution_count": 12,
      "outputs": [
        {
          "output_type": "stream",
          "text": [
            "Hello John Doe\n"
          ],
          "name": "stdout"
        }
      ]
    },
    {
      "cell_type": "markdown",
      "metadata": {
        "id": "nnPVgjGHW7yh"
      },
      "source": [
        "4. Create a dictionary that holds 2 key: value pairs:\r\n",
        "a. Look through your dictionary and print each pair,"
      ]
    },
    {
      "cell_type": "code",
      "metadata": {
        "colab": {
          "base_uri": "https://localhost:8080/"
        },
        "id": "q8scMFVWW9Y3",
        "outputId": "c31c72df-01fd-49eb-e891-b15193f121c0"
      },
      "source": [
        "id = {1: \"John\", 2: \"Jane\"}\r\n",
        "for i in id:\r\n",
        "  print(i, id[i])"
      ],
      "execution_count": 13,
      "outputs": [
        {
          "output_type": "stream",
          "text": [
            "1 John\n",
            "2 Jane\n"
          ],
          "name": "stdout"
        }
      ]
    },
    {
      "cell_type": "markdown",
      "metadata": {
        "id": "o6xb4T22XOxE"
      },
      "source": [
        "5. Create a nested dictionary containing three dictionaries – these dictionaries could be\r\n",
        "anything (favorite pets, travel locations, etc.)\r\n",
        "a. Loop through the dictionaries and print a message for each."
      ]
    },
    {
      "cell_type": "code",
      "metadata": {
        "colab": {
          "base_uri": "https://localhost:8080/"
        },
        "id": "WClAcolkXP6M",
        "outputId": "59615c32-9e32-4e69-df7a-60443e8a9725"
      },
      "source": [
        "travel = {\"USA\":{1:\"California\", 2:\"New York\"}, \"India\":{1:\"Mumbai\", 2:\"New Delhi\"}, \"Japan\":{1:\"Tokyo\", 2:\"Kyoto\"}}\r\n",
        "print(travel)\r\n",
        "for i in travel:\r\n",
        "  for j in travel[i]:\r\n",
        "    print(i, j, travel[i][j])"
      ],
      "execution_count": 28,
      "outputs": [
        {
          "output_type": "stream",
          "text": [
            "{'USA': {1: 'California', 2: 'New York'}, 'India': {1: 'Mumbai', 2: 'New Delhi'}, 'Japan': {1: 'Tokyo', 2: 'Kyoto'}}\n",
            "USA 1 California\n",
            "USA 2 New York\n",
            "India 1 Mumbai\n",
            "India 2 New Delhi\n",
            "Japan 1 Tokyo\n",
            "Japan 2 Kyoto\n"
          ],
          "name": "stdout"
        }
      ]
    },
    {
      "cell_type": "markdown",
      "metadata": {
        "id": "xYvBamwWjmKh"
      },
      "source": [
        "Let's build a calculator that calculates 2 numbers.\r\n",
        "Allow input for the the following\r\n",
        "Number1\r\n",
        "Number2\r\n",
        "Operator\r\n",
        "\r\n",
        "Bases on the operator, perform the operation using an appropriate function"
      ]
    },
    {
      "cell_type": "code",
      "metadata": {
        "colab": {
          "base_uri": "https://localhost:8080/"
        },
        "id": "LdHqWDZojnrv",
        "outputId": "6f92ca26-2de4-47de-b5d0-0d8b02360744"
      },
      "source": [
        "num1 = int(input(\"Please enter first number: \"))\r\n",
        "num2 = int(input(\"Please enter second number: \"))\r\n",
        "op = input(\"Please enter the operator from +, -, *, /, %: \")\r\n",
        "\r\n",
        "def add_n(num1, num2):\r\n",
        "  return str(num1 + num2)\r\n",
        "def sub_n(num1, num2):\r\n",
        "  return str(num1 - num2)\r\n",
        "def mul_n(num1, num2):\r\n",
        "  return str(num1 * num2)\r\n",
        "def div_n(num1, num2):\r\n",
        "  return str(num1 / num2)\r\n",
        "def mod_n(num1, num2):\r\n",
        "  return str(num1 % num2)\r\n",
        "\r\n",
        "if(op == \"+\"):\r\n",
        "  print(\"result = \" + add_n(num1, num2))\r\n",
        "elif(op == \"-\"):\r\n",
        "  print(\"result = \" + sub_n(num1, num2))\r\n",
        "elif(op == \"*\"):\r\n",
        "  print(\"result = \" + mul_n(num1, num2))\r\n",
        "elif(op == \"/\"):\r\n",
        "  print(\"result = \" + div_n(num1, num2))\r\n",
        "elif(op == \"%\"):\r\n",
        "  print(\"result = \" + mod_n(num1, num2))\r\n",
        "else:\r\n",
        "  print(\"Invalid input\")"
      ],
      "execution_count": 21,
      "outputs": [
        {
          "output_type": "stream",
          "text": [
            "Please enter first number: 20\n",
            "Please enter second number: 3\n",
            "Please enter the operator from +, -, *, /, %: %\n",
            "result = 2\n"
          ],
          "name": "stdout"
        }
      ]
    }
  ]
}