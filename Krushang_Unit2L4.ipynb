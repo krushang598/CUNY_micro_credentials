{
  "nbformat": 4,
  "nbformat_minor": 0,
  "metadata": {
    "colab": {
      "name": "Krushang_Unit2L4.ipynb",
      "provenance": [],
      "authorship_tag": "ABX9TyPuhi2jhkLdPmCrGazKW9Wm",
      "include_colab_link": true
    },
    "kernelspec": {
      "name": "python3",
      "display_name": "Python 3"
    }
  },
  "cells": [
    {
      "cell_type": "markdown",
      "metadata": {
        "id": "view-in-github",
        "colab_type": "text"
      },
      "source": [
        "<a href=\"https://colab.research.google.com/github/krushang598/CUNY_micro_credentials/blob/main/Krushang_Unit2L4.ipynb\" target=\"_parent\"><img src=\"https://colab.research.google.com/assets/colab-badge.svg\" alt=\"Open In Colab\"/></a>"
      ]
    },
    {
      "cell_type": "markdown",
      "metadata": {
        "id": "qcjegFnZIh8N"
      },
      "source": [
        "1. Write a Python program to construct the following pattern, using a nested for loop."
      ]
    },
    {
      "cell_type": "code",
      "metadata": {
        "colab": {
          "base_uri": "https://localhost:8080/"
        },
        "id": "_j0L_xdkIdR_",
        "outputId": "a0535a7f-2f6b-446e-e422-08494d0d357e"
      },
      "source": [
        "\"\"\"\r\n",
        "* \r\n",
        "* * \r\n",
        "* * * \r\n",
        "* * * * \r\n",
        "* * * * * \r\n",
        "* * * * \r\n",
        "* * * \r\n",
        "* * \r\n",
        "*\r\n",
        "\"\"\"\r\n",
        "for i in range(6):\r\n",
        "  for j in range(i):\r\n",
        "    print(\"*\", end = \" \")\r\n",
        "  print(\"\\n\")\r\n",
        "\r\n",
        "for i in range(6):\r\n",
        "  for j in range(6-i):\r\n",
        "    print(\"*\", end = \" \")\r\n",
        "  print(\"\\n\")"
      ],
      "execution_count": 1,
      "outputs": [
        {
          "output_type": "stream",
          "text": [
            "\n",
            "\n",
            "* \n",
            "\n",
            "* * \n",
            "\n",
            "* * * \n",
            "\n",
            "* * * * \n",
            "\n",
            "* * * * * \n",
            "\n",
            "* * * * * * \n",
            "\n",
            "* * * * * \n",
            "\n",
            "* * * * \n",
            "\n",
            "* * * \n",
            "\n",
            "* * \n",
            "\n",
            "* \n",
            "\n"
          ],
          "name": "stdout"
        }
      ]
    },
    {
      "cell_type": "markdown",
      "metadata": {
        "id": "emLp2usxJbri"
      },
      "source": [
        "2. Write a Python program that accepts a word from the user and reverse it. Hint: use range() function"
      ]
    },
    {
      "cell_type": "code",
      "metadata": {
        "colab": {
          "base_uri": "https://localhost:8080/"
        },
        "id": "9UYr8sr2Jc6p",
        "outputId": "7375e8b2-6bf3-4cf0-8445-e430bedf4c32"
      },
      "source": [
        "msg = input(\"Please enter a word: \")\r\n",
        "res = \"\"\r\n",
        "for i in range(len(msg)-1, -1, -1):\r\n",
        "  res = res + msg[i]\r\n",
        "print(res)"
      ],
      "execution_count": 2,
      "outputs": [
        {
          "output_type": "stream",
          "text": [
            "Please enter a word: amazing\n",
            "gnizama\n"
          ],
          "name": "stdout"
        }
      ]
    },
    {
      "cell_type": "markdown",
      "metadata": {
        "id": "0qLIsvabJ3JE"
      },
      "source": [
        "3. Write a Python program that prints all the numbers from 0 to 6 except 3 and 6.\r\n",
        " Note : Use 'continue' statement.\r\n",
        "Expected Output : 0 1 2 4 5"
      ]
    },
    {
      "cell_type": "code",
      "metadata": {
        "colab": {
          "base_uri": "https://localhost:8080/"
        },
        "id": "X8430V4KJ-bV",
        "outputId": "c3cd9ea0-0565-4f96-8f91-98f985a84cec"
      },
      "source": [
        "for i in range(6):\r\n",
        "  if i == 3 or i == 6:\r\n",
        "    continue\r\n",
        "  print(i)"
      ],
      "execution_count": 3,
      "outputs": [
        {
          "output_type": "stream",
          "text": [
            "0\n",
            "1\n",
            "2\n",
            "4\n",
            "5\n"
          ],
          "name": "stdout"
        }
      ]
    },
    {
      "cell_type": "markdown",
      "metadata": {
        "id": "3Qyk2wXNKOEq"
      },
      "source": [
        "4. Write a Python program to calculate a dog's age in dog's years. Go to the editor\r\n",
        "Note: For the first two years, a dog year is equal to 10.5 human years. After that, each dog year equals 4 human years.\r\n",
        " Expected Output:\r\n",
        "Input a dog's age in human years: 15                                    \r\n",
        "The dog's age in dog's years is 73"
      ]
    },
    {
      "cell_type": "code",
      "metadata": {
        "colab": {
          "base_uri": "https://localhost:8080/"
        },
        "id": "F47PTM2KKTP7",
        "outputId": "95a2dfc0-5dcf-46a8-c688-3aa1856c2753"
      },
      "source": [
        "age = int(input(\"Enter dog's human age: \"))\r\n",
        "if age == 1:\r\n",
        "  d = 10.5\r\n",
        "elif age == 2:\r\n",
        "  d = 21\r\n",
        "else:\r\n",
        "  d = 21 + (age-2)*4\r\n",
        "print(\"The dog's age in dog's years is \" + str(d))\r\n"
      ],
      "execution_count": 4,
      "outputs": [
        {
          "output_type": "stream",
          "text": [
            "Enter dog's human age: 15\n",
            "The dog's age in dog's years is 73\n"
          ],
          "name": "stdout"
        }
      ]
    }
  ]
}